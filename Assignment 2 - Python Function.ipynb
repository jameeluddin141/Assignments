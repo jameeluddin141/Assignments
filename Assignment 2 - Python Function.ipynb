{
 "cells": [
  {
   "cell_type": "markdown",
   "metadata": {},
   "source": [
    "## Problem Statement"
   ]
  },
  {
   "cell_type": "markdown",
   "metadata": {},
   "source": [
    "Q.1 Write a Python Program to implement your own myreduce() function which works exactly like\n",
    "Python's built-in function reduce()\n"
   ]
  },
  {
   "cell_type": "code",
   "execution_count": 25,
   "metadata": {},
   "outputs": [
    {
     "name": "stdout",
     "output_type": "stream",
     "text": [
      "Output:  120\n"
     ]
    }
   ],
   "source": [
    "def myreduce(arg1:str, arg2:list):\n",
    "    '''\n",
    "    This function reduces the list to a single by multiplying the elements of list of elements or adding them\n",
    "    arg1===.> we have to specify what operation we need to perform on list like add or multiply the elements of list\n",
    "    arg2=== > list\n",
    "    '''\n",
    "    \n",
    "    if arg1.lower() =='add':\n",
    "        result =0\n",
    "        for i in arg2:\n",
    "            result +=i\n",
    "        return result\n",
    "    elif arg1.lower() == 'multiply':\n",
    "        result =1\n",
    "        for i in arg2:\n",
    "            result *= i\n",
    "        return result\n",
    "    \n",
    "print('Output: ', myreduce('multiply', [1,2,3,4,5]))\n",
    "    "
   ]
  },
  {
   "cell_type": "markdown",
   "metadata": {},
   "source": [
    "Q.2 Write a Python program to implement your own myfilter() function which works exactly like\n",
    "Python's built-in function filter()"
   ]
  },
  {
   "cell_type": "code",
   "execution_count": 26,
   "metadata": {},
   "outputs": [
    {
     "name": "stdout",
     "output_type": "stream",
     "text": [
      "Output:  [1, 3, 4, 5]\n"
     ]
    }
   ],
   "source": [
    "def myfilter(arg1:str, arg2:list):\n",
    "    if arg1.lower() == 'positive':\n",
    "        temp =[]\n",
    "        for i in arg2:\n",
    "            if i>0:\n",
    "                temp.append(i)\n",
    "        return temp\n",
    "    \n",
    "    elif arg1.lower() == 'negative':\n",
    "        temp =[]\n",
    "        for i in arg2:\n",
    "            if i <0:\n",
    "                temp.append(i)\n",
    "        return temp\n",
    "    \n",
    "    elif arg1.lower() == 'even':\n",
    "        temp =[]\n",
    "        for i in arg2:\n",
    "            if i%2 ==0:\n",
    "                temp.append(i)\n",
    "        return temp\n",
    "    \n",
    "    elif arg1.lower() == 'odd':\n",
    "        temp =[]\n",
    "        for i in arg2:\n",
    "            if i%2 ==1:\n",
    "                temp.append(i)\n",
    "        return temp\n",
    "    \n",
    "    \n",
    "print (\"Output: \", myfilter('positive', [0,1,-2,3,4,5]))\n",
    "\n",
    "\n",
    "                "
   ]
  },
  {
   "cell_type": "markdown",
   "metadata": {},
   "source": [
    "Q.3 Implement List comprehensions to produce the following lists.\n",
    "   Write List comprehensions to produce the following Lists\n",
    "   \n",
    "    ['A', 'C', 'A', 'D', 'G', 'I', ’L’, ‘ D’]\n",
    "   \n",
    "    ['x', 'xx', 'xxx', 'xxxx', 'y', 'yy', 'yyy', 'yyyy', 'z', 'zz', 'zzz', 'zzzz']\n",
    "\n",
    "    ['x', 'y', 'z', 'xx', 'yy', 'zz', 'xx', 'yy', 'zz', 'xxxx', 'yyyy', 'zzzz']\n",
    "    \n",
    "    [[2], [3], [4], [3], [4], [5], [4], [5], [6]]\n",
    "\n",
    "    [[2, 3, 4, 5], [3, 4, 5, 6], [4, 5, 6, 7], [5, 6, 7, 8]]\n",
    "\n",
    "    [(1, 1), (2, 1), (3, 1), (1, 2), (2, 2), (3, 2), (1, 3), (2, 3), (3, 3)]"
   ]
  },
  {
   "cell_type": "code",
   "execution_count": 27,
   "metadata": {},
   "outputs": [
    {
     "name": "stdout",
     "output_type": "stream",
     "text": [
      "Output:  ['A', 'C', 'A', 'D', 'G', 'I', 'L', 'D']\n",
      "Output:  ['x', 'xx', 'xxx', 'xxxx', 'y', 'yy', 'yyy', 'yyyy', 'z', 'zz', 'zzz', 'zzzz']\n",
      "Output:  ['x', 'y', 'z', 'xx', 'yy', 'zz', 'xxx', 'yyy', 'zzz', 'xxxx', 'yyyy', 'zzzz']\n",
      "Output:  [[2], [3], [4], [3], [4], [5], [4], [5], [6]]\n",
      "Output:  [[2, 3, 4, 5], [3, 4, 5, 6], [4, 5, 6, 7], [5, 6, 7, 8]]\n",
      "Output:  [(1, 1), (2, 1), (3, 1), (1, 2), (2, 2), (3, 2), (1, 3), (2, 3), (3, 3)]\n"
     ]
    }
   ],
   "source": [
    "word = \"ACADGILD\"\n",
    "result = [ i for i in word ]\n",
    "print(\"Output: \", result)\n",
    "\n",
    "numbers = ['x','y','z']\n",
    "result = [ i*num for i in numbers for num in range(1,5)  ]\n",
    "print(\"Output: \", result)\n",
    "\n",
    "numbers = ['x','y','z']\n",
    "result = [ i*num for num in range(1,5) for i in numbers  ]\n",
    "print(\"Output: \", result)\n",
    "\n",
    "numbers = [2,3,4]\n",
    "result = [ [i+num] for i in numbers for num in range(0,3)]\n",
    "print(\"Output: \", result)\n",
    "\n",
    "numbers = [2,3,4,5]\n",
    "result = [ [i+num for i in numbers] for num in range(0,4)  ]\n",
    "print(\"Output: \", result)\n",
    "\n",
    "\n",
    "numbers=[1,2,3]\n",
    "result = [ (b,a) for a in numbers for b in numbers]\n",
    "print(\"Output: \", result)\n"
   ]
  },
  {
   "cell_type": "markdown",
   "metadata": {},
   "source": [
    "Q.4 Implement a function longestWord() that takes a list of words and returns the longest one."
   ]
  },
  {
   "cell_type": "code",
   "execution_count": 29,
   "metadata": {},
   "outputs": [
    {
     "name": "stdout",
     "output_type": "stream",
     "text": [
      "Output:  Exercises\n"
     ]
    }
   ],
   "source": [
    "def find_longest_word(words_list):\n",
    "    word_len = []\n",
    "    for n in words_list:\n",
    "        word_len.append((len(n), n))\n",
    "    word_len.sort()\n",
    "    return word_len[-1][1]\n",
    "\n",
    "print(\"Output: \", find_longest_word([\"PHP\", \"Exercises\", \"Backend\"]))\n"
   ]
  },
  {
   "cell_type": "markdown",
   "metadata": {},
   "source": [
    "Q.5 Write a Python Program(with class concepts) to find the area of the triangle using the below\n",
    "formula.\n",
    "\n",
    "area = (s*(s-a)*(s-b)*(s-c)) ** 0.5\n",
    "\n",
    "Function to take the length of the sides of triangle from user should be defined in the parent\n",
    "class and function to calculate the area should be defined in subclass."
   ]
  },
  {
   "cell_type": "code",
   "execution_count": 30,
   "metadata": {},
   "outputs": [
    {
     "name": "stdout",
     "output_type": "stream",
     "text": [
      "enter a: 5\n",
      "enter b: 5\n",
      "enter c: 5\n",
      "output:  58.59375\n"
     ]
    }
   ],
   "source": [
    "a = float(input(\"enter a: \"))\n",
    "b = float(input(\"enter b: \"))\n",
    "c = float(input(\"enter c: \"))\n",
    "\n",
    "class AreaOfTriangle():\n",
    "    def __init__(self, a:float, b:float, c:float):\n",
    "        self.a =a\n",
    "        self.b =b\n",
    "        self.c =c\n",
    "\n",
    "    def calculate(self):\n",
    "        s =(self.a+self.b+self.c)*0.5\n",
    "        return s*(s-self.a)*(s-self.b)*(s-self.c)*0.5\n",
    "\n",
    "print(\"output: \", AreaOfTriangle(a, b, c).calculate())"
   ]
  },
  {
   "cell_type": "markdown",
   "metadata": {},
   "source": [
    "Q.6 Write a function filter_long_words() that takes a list of words and an integer n and returns the list\n",
    "of words that are longer than n."
   ]
  },
  {
   "cell_type": "code",
   "execution_count": 31,
   "metadata": {},
   "outputs": [
    {
     "name": "stdout",
     "output_type": "stream",
     "text": [
      "output :  ['intelligence', 'Deep Learning', 'Machine Learning']\n"
     ]
    }
   ],
   "source": [
    "def filter_long_words(lists, n):\n",
    "    output_list = []\n",
    "    for i in lists:\n",
    "        if len(i)>n:\n",
    "            output_list.append(i)\n",
    "    return output_list\n",
    "\n",
    "\n",
    "print(\"output : \", filter_long_words(['iNeuron', 'intelligence', 'Deep Learning', 'Machine Learning'], 8))\n",
    "\n",
    "\n",
    "            \n",
    "            "
   ]
  },
  {
   "cell_type": "markdown",
   "metadata": {},
   "source": [
    "Q.7 Write a Python program using function concept that maps list of words into a list of integers\n",
    "representing the lengths of the corresponding words.\n",
    "    \n",
    "    Hint: If a list [ ab,cde,erty] is passed on to the python function output should come as [2,3,4]\n",
    "    Here 2,3 and 4 are the lengths of the words in the list."
   ]
  },
  {
   "cell_type": "code",
   "execution_count": 32,
   "metadata": {},
   "outputs": [
    {
     "name": "stdout",
     "output_type": "stream",
     "text": [
      "Output:  [2, 3, 9]\n"
     ]
    }
   ],
   "source": [
    "# str1 = ['ab', 'cde', 'erty']\n",
    "str1 =[12, 155, 195052563]\n",
    "\n",
    "def map_words(str1):\n",
    "    result =list()\n",
    "    for i in str1:\n",
    "        result.append(len(str(i)))\n",
    "    return result\n",
    "\n",
    "print(\"Output: \", map_words(str1))"
   ]
  },
  {
   "cell_type": "markdown",
   "metadata": {},
   "source": [
    "Q.8 Write a Python function which takes a character (i.e. a string of length 1) and returns True if it is\n",
    "a vowel, False otherwise."
   ]
  },
  {
   "cell_type": "code",
   "execution_count": 33,
   "metadata": {},
   "outputs": [
    {
     "name": "stdout",
     "output_type": "stream",
     "text": [
      "please enter character of length one: i\n",
      "Output True\n"
     ]
    }
   ],
   "source": [
    "str1 = input(\"please enter character of length one: \")\n",
    "\n",
    "def char_vowel(str1):\n",
    "    result =0\n",
    "    vowel_list = ['a', 'e', 'i', 'o', 'u']\n",
    "    if len(str1) == 1:\n",
    "        for i in vowel_list:\n",
    "            if i == str1.lower():\n",
    "                result += 1\n",
    "        if result == 1:\n",
    "            return True\n",
    "        else:\n",
    "            return False\n",
    "    else:\n",
    "        print(\"please enter character of length 1\")\n",
    "\n",
    "print(\"Output\", char_vowel(str1))"
   ]
  },
  {
   "cell_type": "markdown",
   "metadata": {},
   "source": [
    "## Great job!"
   ]
  }
 ],
 "metadata": {
  "kernelspec": {
   "display_name": "Python 3",
   "language": "python",
   "name": "python3"
  },
  "language_info": {
   "codemirror_mode": {
    "name": "ipython",
    "version": 3
   },
   "file_extension": ".py",
   "mimetype": "text/x-python",
   "name": "python",
   "nbconvert_exporter": "python",
   "pygments_lexer": "ipython3",
   "version": "3.6.8"
  }
 },
 "nbformat": 4,
 "nbformat_minor": 2
}
