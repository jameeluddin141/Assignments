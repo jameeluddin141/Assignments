{
 "cells": [
  {
   "cell_type": "markdown",
   "metadata": {},
   "source": [
    "Q1. Write a Python program to get the string from the given string where\n",
    "all the occurrence of its first char has been changed to '$,' except first\n",
    "char itself?\n",
    "\n",
    "    Sample String: 'prospect'\n",
    "    Expected Result : 'pros$ect'\n"
   ]
  },
  {
   "cell_type": "code",
   "execution_count": 66,
   "metadata": {},
   "outputs": [
    {
     "name": "stdout",
     "output_type": "stream",
     "text": [
      "please enter the string: guage\n",
      "Expected Result : gua$e\n"
     ]
    }
   ],
   "source": [
    "sample_string = input(\"please enter the string: \")\n",
    "\n",
    "def func(sample_string):\n",
    "    s=''\n",
    "    first_char =''\n",
    "    lst =[]\n",
    "    for i in sample_string:\n",
    "        lst.append(i)\n",
    "    for i,v in enumerate(lst):\n",
    "        if i==0:\n",
    "            first_char +=v\n",
    "            s+=v\n",
    "        else:\n",
    "            if v==first_char:\n",
    "                v ='$'\n",
    "                s+=v\n",
    "            else:\n",
    "                s+=v\n",
    "    return s\n",
    "    \n",
    "print(\"Expected Result :\", func(sample_string))\n",
    "        "
   ]
  },
  {
   "cell_type": "markdown",
   "metadata": {},
   "source": [
    "Q2. Write a Python program to get the single string from the two given\n",
    "strings, and separated by the space and swap the first two characters of\n",
    "each string?\n",
    "\n",
    "    Sample String : 'abc', 'xyz'.\n",
    "    Expected Result: 'xyc abz'"
   ]
  },
  {
   "cell_type": "code",
   "execution_count": 32,
   "metadata": {},
   "outputs": [
    {
     "name": "stdout",
     "output_type": "stream",
     "text": [
      "please enter the string: jameel md is very good\n",
      "Expected Result: md jameel is very good\n"
     ]
    }
   ],
   "source": [
    "sample_string = input(\"please enter the string: \")\n",
    "\n",
    "def rev_first_two_char(sample_string):\n",
    "    s = sample_string.split(' ')\n",
    "    s[0],s[1]=s[1],s[0]\n",
    "    exp =' '.join(map(str, s))\n",
    "    return exp\n",
    "    \n",
    "print(\"Expected Result:\", rev_first_two_char(sample_string))"
   ]
  },
  {
   "cell_type": "markdown",
   "metadata": {},
   "source": [
    "Q3. Write the Python program to add 'ing' at the end of the given string\n",
    "(length of the string should be at least 3). If given string already ends\n",
    "with 'ing,' then add 'ly' instead. If string length of the given string is less\n",
    "than 3, leave it unchanged?\n",
    "\n",
    "\n",
    "    Sample string: ' abc '\n",
    "    Expected result: ' abcing '\n",
    "    Sample string: ' string '\n",
    "    Expected result: ' stringly '\n"
   ]
  },
  {
   "cell_type": "code",
   "execution_count": 34,
   "metadata": {},
   "outputs": [
    {
     "name": "stdout",
     "output_type": "stream",
     "text": [
      "please enter the string: abc\n",
      "please enter another string: interesting\n",
      "Expected result: abcing\n",
      "Expected result: interestingly\n"
     ]
    }
   ],
   "source": [
    "sample_string = input(\"please enter the string: \")\n",
    "sample_string_1 = input(\"please enter another string: \")\n",
    "\n",
    "\n",
    "def add_suffix(sample_string):\n",
    "    if len(sample_string)>=3:\n",
    "        if sample_string.endswith('ing'):\n",
    "            exp = sample_string+'ly'\n",
    "        else:\n",
    "            exp = sample_string+'ing'\n",
    "        return exp\n",
    "    else:\n",
    "        return sample_string\n",
    "        \n",
    "print(\"Expected result:\", add_suffix(sample_string))\n",
    "print(\"Expected result:\", add_suffix(sample_string_1))\n",
    "        \n",
    "        \n",
    "        "
   ]
  },
  {
   "cell_type": "markdown",
   "metadata": {},
   "source": [
    "Q4. Write the Python program to find the first appearance of the\n",
    "substring 'not' and 'poor' from the given string, if 'not' follows the 'poor',\n",
    "replace the whole 'not'...' poor' substring with 'good'.Return the resulting\n",
    "string.\n",
    "\n",
    "    Sample string: 'The lyrics are not that poor!'\n",
    "    'The lyrics are poor!'\n",
    "    Expected Result: 'The lyrics are good!'\n",
    "    'The lyrics are poor!'"
   ]
  },
  {
   "cell_type": "code",
   "execution_count": 36,
   "metadata": {},
   "outputs": [
    {
     "name": "stdout",
     "output_type": "stream",
     "text": [
      "please enter the string: the lyrics are not that poor\n",
      "Expected result: the lyrics are good\n"
     ]
    }
   ],
   "source": [
    "sample_string = input(\"please enter the string: \")\n",
    "\n",
    "def sample_func(sample_string):\n",
    "    str_not = sample_string.find('not')\n",
    "    str_poor = sample_string.find('poor')\n",
    "\n",
    "    if str_poor>str_not and str_not>0 and str_poor:\n",
    "        sample_string = sample_string.replace(sample_string[str_not:(str_poor+4)], 'good')\n",
    "        return sample_string\n",
    "    else:\n",
    "        return sample_string\n",
    "    \n",
    "print(\"Expected result:\", sample_func(sample_string))\n",
    "    \n"
   ]
  },
  {
   "cell_type": "markdown",
   "metadata": {},
   "source": [
    "Q5. Write the Python program to remove the characters which have odd\n",
    "index values of a given string."
   ]
  },
  {
   "cell_type": "code",
   "execution_count": 39,
   "metadata": {},
   "outputs": [
    {
     "name": "stdout",
     "output_type": "stream",
     "text": [
      "please enter the input string:hyderabad\n",
      "Expected Result:  hdrbd\n"
     ]
    }
   ],
   "source": [
    "sample_string = input(\"please enter the input string:\")\n",
    "\n",
    "def remove_odd_index_char(sample_string):\n",
    "    final_string =''\n",
    "    for i,v in enumerate(sample_string):\n",
    "        if i%2 ==0:\n",
    "            final_string+=v\n",
    "        else:\n",
    "            pass\n",
    "    return final_string\n",
    "    \n",
    "    \n",
    "print(\"Expected Result: \", remove_odd_index_char(sample_string))\n",
    "    \n",
    "    \n"
   ]
  },
  {
   "cell_type": "markdown",
   "metadata": {},
   "source": [
    "Q6. Write the python program to print the following floating numbers up\n",
    "to 2 decimal places?"
   ]
  },
  {
   "cell_type": "code",
   "execution_count": 24,
   "metadata": {},
   "outputs": [
    {
     "name": "stdout",
     "output_type": "stream",
     "text": [
      "Formatted Number: 22.15\n"
     ]
    }
   ],
   "source": [
    "sample_num = 22.14586346\n",
    "\n",
    "print(\"Formatted Number: \"+\"{:.2f}\".format(sample_num))\n"
   ]
  },
  {
   "cell_type": "markdown",
   "metadata": {},
   "source": [
    "Q7. Write the Python program to format a number with a percentage?"
   ]
  },
  {
   "cell_type": "code",
   "execution_count": 51,
   "metadata": {},
   "outputs": [
    {
     "name": "stdout",
     "output_type": "stream",
     "text": [
      "Formatted Number with percentage: 9.00%\n"
     ]
    }
   ],
   "source": [
    "sample_num = 0.09\n",
    "print(\"Formatted Number with percentage: \"+\"{:.2%}\".format(sample_num));\n"
   ]
  },
  {
   "cell_type": "markdown",
   "metadata": {},
   "source": [
    "Q8. Write the Python program to count occurrences of a substring in a\n",
    "String?"
   ]
  },
  {
   "cell_type": "code",
   "execution_count": 53,
   "metadata": {},
   "outputs": [
    {
     "name": "stdout",
     "output_type": "stream",
     "text": [
      "occ: 3\n"
     ]
    }
   ],
   "source": [
    "sample_string=\"i love python, python is very good language and many people are learning python\"\n",
    "substring = \"python\"\n",
    "print(\"occ:\", sample_string.count(substring))"
   ]
  },
  {
   "cell_type": "markdown",
   "metadata": {},
   "source": [
    "Q9. Write the Python program to count repeated characters in a string.\n",
    "\n",
    "    Sample string: ' thequickbrownjumpsoverthelazydog '\n",
    "    \n",
    "    Expected output:\n",
    "    o 3\n",
    "    e 3\n",
    "    u 2\n",
    "    h 2\n",
    "    r 2\n",
    "    t 2"
   ]
  },
  {
   "cell_type": "code",
   "execution_count": 50,
   "metadata": {},
   "outputs": [
    {
     "name": "stdout",
     "output_type": "stream",
     "text": [
      "please enter the string: thequickbrownjumpsoverthelazydog\n",
      "Expected output: {'t': 2, 'h': 2, 'e': 3, 'u': 2, 'r': 2, 'o': 3}\n"
     ]
    }
   ],
   "source": [
    "\n",
    "sampl = input(\"please enter the string: \")\n",
    "\n",
    "def count_string(sampl):\n",
    "    k =dict()\n",
    "    for i in sampl:\n",
    "        k[i] = sampl.count(i)\n",
    "    b= dict()\n",
    "        \n",
    "    for key,value in k.items():\n",
    "        if value >1:\n",
    "            b[key] = value\n",
    "    return b\n",
    "    \n",
    "print(\"Expected output:\", count_string(sampl))"
   ]
  },
  {
   "cell_type": "markdown",
   "metadata": {},
   "source": [
    "Q10. Write the Python program to print the square and cube symbol in\n",
    "the area of a rectangle and volume of a cylinder?\n",
    "\n",
    "    Sample outputThe area of the rectangle is 1256.66cm2\n",
    "    The volume of the cylinder is 1254.725cm3\n"
   ]
  },
  {
   "cell_type": "code",
   "execution_count": 68,
   "metadata": {},
   "outputs": [
    {
     "name": "stdout",
     "output_type": "stream",
     "text": [
      "Sample output: \n",
      "The area of the rectangle is 1256.66cm²\n",
      "The volume of the cylinder is 1254.725cm³\n"
     ]
    }
   ],
   "source": [
    "area = 1256.66\n",
    "volume = 1254.725\n",
    "decimals = 2\n",
    "print(\"Sample output: \")\n",
    "print(\"The area of the rectangle is {0:.{1}f}cm\\u00b2\".format(area, decimals))\n",
    "decimals = 3\n",
    "print(\"The volume of the cylinder is {0:.{1}f}cm\\u00b3\".format(volume, decimals))\n"
   ]
  },
  {
   "cell_type": "markdown",
   "metadata": {},
   "source": [
    "Q11. Write the Python program to check if a string contains all letters of\n",
    "the alphabet?"
   ]
  },
  {
   "cell_type": "code",
   "execution_count": 4,
   "metadata": {},
   "outputs": [
    {
     "name": "stdout",
     "output_type": "stream",
     "text": [
      "please enter the string: sccwvv\n",
      "No\n"
     ]
    }
   ],
   "source": [
    "str = input(\"please enter the string: \")\n",
    "def check_all_alphabet(str):\n",
    "    alphabet ='abcdefghijklmnopqrstuvwxyz'\n",
    "    for i in alphabet:\n",
    "        if i not in str.lower():\n",
    "            return False\n",
    "    return True\n",
    "\n",
    "if(check_all_alphabet(str) == True): \n",
    "    print(\"Yes\") \n",
    "else: \n",
    "    print(\"No\") \n",
    "    "
   ]
  },
  {
   "cell_type": "markdown",
   "metadata": {},
   "source": [
    "Q12. Write the Python program to find the second most repeated word\n",
    "in a given string?"
   ]
  },
  {
   "cell_type": "code",
   "execution_count": 65,
   "metadata": {},
   "outputs": [
    {
     "name": "stdout",
     "output_type": "stream",
     "text": [
      "please enter the string: i love india , india is very good country , i am in that country from childhood, i like it much\n",
      "Expected output: ('country', 2)\n"
     ]
    }
   ],
   "source": [
    "\n",
    "sampl = input(\"please enter the string: \")\n",
    "\n",
    "def count_string(sampl):\n",
    "    k =dict()\n",
    "    sampl = sampl.split()\n",
    "    for i in sampl:\n",
    "        k[i] = sampl.count(i)\n",
    "    b= dict()\n",
    "        \n",
    "    for key,value in k.items():\n",
    "        if value >1:\n",
    "            b[key] = value\n",
    "    b_x = sorted(b.items(), key=lambda kv: kv[1])\n",
    "\n",
    "    return b_x[-2]\n",
    "    \n",
    "print(\"Expected output:\", count_string(sampl))\n",
    "\n",
    "\n",
    "\n"
   ]
  },
  {
   "cell_type": "markdown",
   "metadata": {},
   "source": [
    "Q13. Write the Python program to find the minimum window in the given\n",
    "string, which will contains all the characters of another given\n",
    "strings?\n",
    "\n",
    "    Example 1\n",
    "    Input : string1 = \" PRWSOERIUSFK \"\n",
    "    string2 = \" OSU \"\n",
    "    Output: Minimum window is \"OERIUS\""
   ]
  },
  {
   "cell_type": "code",
   "execution_count": 4,
   "metadata": {},
   "outputs": [
    {
     "name": "stdout",
     "output_type": "stream",
     "text": [
      "please enter the input string1: PRWSOERIUSFK\n",
      "please enter the input string2: OSU\n",
      "Smallest window that contains all characters of the said string:  SOERIU\n"
     ]
    }
   ],
   "source": [
    "str1 = input(\"please enter the input string1: \")\n",
    "str2 = input(\"please enter the input string2: \")\n",
    "\n",
    "\n",
    "index_list = list()\n",
    "s = list()\n",
    "for i in str1:\n",
    "    if i in str2 and i not in s:\n",
    "        s.append(i)\n",
    "        index = str1.find(i)\n",
    "        index_list.append(index)\n",
    "\n",
    "str3 = len(set([x for x in str2]))\n",
    "\n",
    "if len(index_list) == str3:\n",
    "    index_list.sort()\n",
    "    min_w =str1[index_list[0]:index_list[-1]+1]\n",
    "    print(\"Smallest window that contains all characters of the said string: \", min_w)\n",
    "else:\n",
    "    print(\"minimum window doesn't exists\")\n",
    "    \n",
    "        \n",
    "        \n"
   ]
  },
  {
   "cell_type": "markdown",
   "metadata": {},
   "source": [
    "Q14. Write the Python program to count number of substrings from a\n",
    "given string of lowercase alphabets with exactly k distinct (given)\n",
    "characters?\n",
    "\n",
    "    Input a string (lowercase alphabets): wolf\n",
    "    Input k: 4\n",
    "    Number of substrings with exactly 4 distinct characters: 1"
   ]
  },
  {
   "cell_type": "code",
   "execution_count": 7,
   "metadata": {},
   "outputs": [
    {
     "name": "stdout",
     "output_type": "stream",
     "text": [
      "please enter the input string: wolf\n",
      "Input k: 4\n",
      "Number of substrings with exactly 4 distinct characters :  1\n"
     ]
    }
   ],
   "source": [
    "str1 = input(\"please enter the input string: \")\n",
    "k = int(input(\"Input k: \"))\n",
    "\n",
    "def find_k_distinct(str1, k):\n",
    "    n = len(str1) \n",
    "    result = 0\n",
    "\n",
    "    ctr = [0] * 27\n",
    "\n",
    "    for i in range(0, n): \n",
    "        dist_ctr = 0\n",
    "\n",
    "        ctr = [0] * 27\n",
    "\n",
    "        for j in range(i, n): \n",
    "\n",
    "            if(ctr[ord(str1[j]) - 97] == 0): \n",
    "                dist_ctr += 1\n",
    "\n",
    "            ctr[ord(str1[j]) - 97] += 1\n",
    "            if(dist_ctr == k): \n",
    "                result += 1\n",
    "            if(dist_ctr > k): \n",
    "                break\n",
    "\n",
    "    return result \n",
    "\n",
    "\n",
    "print(\"Number of substrings with exactly\", k, \"distinct characters : \", find_k_distinct(str1, k)) \n"
   ]
  },
  {
   "cell_type": "markdown",
   "metadata": {},
   "source": [
    "Q15. Write the Python program to count number of substrings with same\n",
    "first and last characters of the given string?\n",
    "\n",
    "    Input a string: abcd\n",
    "    4\n"
   ]
  },
  {
   "cell_type": "code",
   "execution_count": 5,
   "metadata": {},
   "outputs": [
    {
     "name": "stdout",
     "output_type": "stream",
     "text": [
      "please enter the input string: abcda\n",
      "6\n"
     ]
    }
   ],
   "source": [
    "str1 = input(\"please enter the input string: \")\n",
    "\n",
    "def check_str(s): \n",
    "    return (ord(s[0]) == ord(s[len(s) - 1]))\n",
    "\n",
    "def count_substrings(str1):\n",
    "    result =0\n",
    "    n =len(str1)\n",
    "    \n",
    "    for i in range(n):\n",
    "        for j in range(1, n-i+1):\n",
    "            if check_str(str1[i:i+j]):\n",
    "                result+=1\n",
    "                \n",
    "    return result\n",
    "\n",
    "print(count_substrings(str1))\n",
    "            "
   ]
  },
  {
   "cell_type": "markdown",
   "metadata": {},
   "source": [
    "## Great Job!"
   ]
  }
 ],
 "metadata": {
  "kernelspec": {
   "display_name": "Python 3",
   "language": "python",
   "name": "python3"
  },
  "language_info": {
   "codemirror_mode": {
    "name": "ipython",
    "version": 3
   },
   "file_extension": ".py",
   "mimetype": "text/x-python",
   "name": "python",
   "nbconvert_exporter": "python",
   "pygments_lexer": "ipython3",
   "version": "3.6.8"
  }
 },
 "nbformat": 4,
 "nbformat_minor": 2
}
