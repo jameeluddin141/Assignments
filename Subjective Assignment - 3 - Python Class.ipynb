{
 "cells": [
  {
   "cell_type": "markdown",
   "metadata": {},
   "source": [
    "# Assignment"
   ]
  },
  {
   "cell_type": "markdown",
   "metadata": {},
   "source": [
    "Q1. Write the Python class to convert an integer to a roman numeral?"
   ]
  },
  {
   "cell_type": "code",
   "execution_count": 68,
   "metadata": {},
   "outputs": [
    {
     "name": "stdout",
     "output_type": "stream",
     "text": [
      "output:  CXXIV\n",
      "output:  MMMMCMXCIX\n"
     ]
    }
   ],
   "source": [
    "class IntergerToRoman:\n",
    "    def __init__(self, integer):\n",
    "        self.integer = integer\n",
    "        self.val = [1000, 900, 500, 400, 100, 90, 50, 40, 10, 9, 5, 4,1]\n",
    "        self.roman_alphabets = [\"M\", \"CM\", \"D\", \"CD\", \"C\", \"XC\", \"L\", \"XL\", \"X\", \"IX\", \"V\", \"IV\",\"I\"]\n",
    "        self.roman_num =''\n",
    "        \n",
    "    def execute(self):\n",
    "        i = 0\n",
    "        while  self.integer > 0:\n",
    "            for _ in range(self.integer // self.val[i]):\n",
    "                self.roman_num += self.roman_alphabets[i]\n",
    "                self.integer -= self.val[i]\n",
    "            i += 1\n",
    "        return self.roman_num\n",
    "    \n",
    "print(\"output: \", IntergerToRoman(124).execute())\n",
    "print(\"output: \", IntergerToRoman(4999).execute())"
   ]
  },
  {
   "cell_type": "markdown",
   "metadata": {},
   "source": [
    "Q2 Write the Python class to convert a Roman numeral to an integer?\n"
   ]
  },
  {
   "cell_type": "code",
   "execution_count": 69,
   "metadata": {},
   "outputs": [
    {
     "name": "stdout",
     "output_type": "stream",
     "text": [
      "output:  124\n",
      "output:  4999\n"
     ]
    }
   ],
   "source": [
    "class RomanToInterger:\n",
    "    def __init__(self, roman_num):\n",
    "        self.integer = 0\n",
    "        self.rom_int_dict = {'I': 1, 'V': 5, 'X': 10, 'L': 50, 'C': 100, 'D': 500, 'M': 1000}\n",
    "        self.roman_num = roman_num\n",
    "        \n",
    "    def execute(self):\n",
    "        for i in range(len(self.roman_num)):\n",
    "            if i > 0 and self.rom_int_dict[self.roman_num[i]] > self.rom_int_dict[self.roman_num[i - 1]]:\n",
    "                self.integer += self.rom_int_dict[self.roman_num[i]] - 2 * self.rom_int_dict[self.roman_num[i - 1]]\n",
    "            else:\n",
    "                self.integer += self.rom_int_dict[self.roman_num[i]]\n",
    "        return self.integer\n",
    "    \n",
    "print(\"output: \", RomanToInterger('CXXIV').execute())\n",
    "print(\"output: \", RomanToInterger('MMMMCMXCIX').execute())"
   ]
  },
  {
   "cell_type": "markdown",
   "metadata": {},
   "source": [
    "Q3. Write the Python class to find the validity of the string of the\n",
    "parentheses, '(', ')', '{', '}', '[' and '] and the brackets must be closed\n",
    "in the correct order, example - \"()\" and \"()[]{}\" are valid but \"[)\",\n",
    "\"({[)]\" and \"{{{\" are invalid.\n"
   ]
  },
  {
   "cell_type": "code",
   "execution_count": 70,
   "metadata": {},
   "outputs": [
    {
     "name": "stdout",
     "output_type": "stream",
     "text": [
      "Output:  valid parenthesis\n"
     ]
    }
   ],
   "source": [
    "class validity_parenthesis:\n",
    "    def __init__(self, mystring):\n",
    "        self.mystring = mystring\n",
    "        self.stack =[]\n",
    "        self.open_list =[\"[\",\"{\",\"(\"]\n",
    "        self.close_list = [\"]\",\"}\",\")\"]\n",
    "        \n",
    "    def execute(self):\n",
    "        for i in self.mystring:\n",
    "            if i in self.open_list:\n",
    "                self.stack.append(i)\n",
    "            elif i in self.close_list:\n",
    "                ind = self.close_list.index(i)\n",
    "                if ((len(self.stack)>0) and (self.open_list[ind]==self.stack[len(self.stack)-1])):\n",
    "                    self.stack.pop()\n",
    "                else:\n",
    "                    return \"Not valid parenthesis\"\n",
    "                \n",
    "        if len(self.stack) ==0:\n",
    "            return \"valid parenthesis\"\n",
    "        \n",
    "        \n",
    "print(\"Output: \", validity_parenthesis(\"{[]{()}}\").execute())\n",
    "\n",
    "\n"
   ]
  },
  {
   "cell_type": "markdown",
   "metadata": {},
   "source": [
    "Q4. Write the Python class to get all possible unique subsets from a set\n",
    "of distinct integers?\n",
    "\n",
    "    Input - [4, 5, 6]\n",
    "    Output - [[], [6], [5], [5, 6], [4], [4, 6], [4, 5], [4, 5, 6]]"
   ]
  },
  {
   "cell_type": "code",
   "execution_count": 71,
   "metadata": {},
   "outputs": [
    {
     "name": "stdout",
     "output_type": "stream",
     "text": [
      "Output:  [[], [6], [5], [5, 6], [4], [4, 6], [4, 5], [4, 5, 6]]\n"
     ]
    }
   ],
   "source": [
    "class unique_subsets:\n",
    "    def __init__(self, input_vec):\n",
    "        self.input_vec=input_vec\n",
    "        self.current = None\n",
    "    \n",
    "    def sub_sets(self):\n",
    "        return self.subsetsRecur([], sorted(self.input_vec))\n",
    "    \n",
    "    def subsetsRecur(self, a, b):\n",
    "        if b:\n",
    "            return self.subsetsRecur(a, b[1:]) + self.subsetsRecur(a + [b[0]], b[1:])\n",
    "        return [a]\n",
    "\n",
    "\n",
    "print(\"Output: \", unique_subsets([4,5,6]).sub_sets())\n"
   ]
  },
  {
   "cell_type": "markdown",
   "metadata": {},
   "source": [
    "Q5. Write the Python class to find a pair of elements (indices of the two\n",
    "numbers) from a given array whose sum equals the specific target\n",
    "number?\n",
    "\n",
    "    Input: numbers- [10,20,10,40,50,60,70], target=50\n",
    "    Output- 3, 4"
   ]
  },
  {
   "cell_type": "code",
   "execution_count": 72,
   "metadata": {},
   "outputs": [
    {
     "name": "stdout",
     "output_type": "stream",
     "text": [
      "indices are : (2, 3)\n"
     ]
    }
   ],
   "source": [
    "class Sumoftwoelements:\n",
    "    def __init__(self, numbers, target):\n",
    "        self.numbers = numbers\n",
    "        self.target = target\n",
    "        self.check_num = {}\n",
    "        \n",
    "    def execute(self):\n",
    "        for i, num in enumerate(self.numbers):\n",
    "            if self.target - num in self.check_num:\n",
    "                return (self.check_num[self.target - num], i)\n",
    "            self.check_num[num] = i\n",
    "\n",
    "            \n",
    "\n",
    "print(\"indices are :\", Sumoftwoelements([10,20,10,40,50,60,70], 50).execute())\n",
    "            "
   ]
  },
  {
   "cell_type": "markdown",
   "metadata": {},
   "source": [
    "Q6. Write the Python class to find the three elements that sum to zero\n",
    "from the set of n real numbers?\n",
    "\n",
    "    Input array- [-25, -10, -7, -3, 2, 4, 8, 10]\n",
    "    Output - [[-10, 2, 8], [-7, -3, 10]]\n"
   ]
  },
  {
   "cell_type": "code",
   "execution_count": 73,
   "metadata": {},
   "outputs": [
    {
     "name": "stdout",
     "output_type": "stream",
     "text": [
      "output [[-10, 2, 8], [-7, -3, 10]]\n"
     ]
    }
   ],
   "source": [
    "class threeelementssum:\n",
    "    def __init__(self, num):\n",
    "        self.num =num\n",
    "    def execute(self):\n",
    "        self.num, result, i = sorted(self.num), [], 0\n",
    "        while i < len(self.num) - 2:\n",
    "            j, k = i + 1, len(self.num) - 1\n",
    "            while j < k:\n",
    "                if self.num[i] + self.num[j] + self.num[k] < 0:\n",
    "                    j += 1\n",
    "                elif self.num[i] + self.num[j] + self.num[k] > 0:\n",
    "                    k -= 1\n",
    "                else:\n",
    "                    result.append([self.num[i], self.num[j], self.num[k]])\n",
    "                    j, k = j + 1, k - 1\n",
    "                    while j < k and self.num[j] == self.num[j - 1]:\n",
    "                        j += 1\n",
    "                    while j < k and self.num[k] == self.num[k + 1]:\n",
    "                        k -= 1\n",
    "            i += 1\n",
    "            while i < len(self.num) - 2 and self.num[i] == self.num[i - 1]:\n",
    "                i += 1\n",
    "        return result\n",
    "\n",
    "print(\"output\", threeelementssum([-25, -10, -7, -3, 2, 4, 8, 10]).execute())"
   ]
  },
  {
   "cell_type": "markdown",
   "metadata": {},
   "source": [
    "Q7. Write the Python class to implement pow(x, n)?"
   ]
  },
  {
   "cell_type": "code",
   "execution_count": 74,
   "metadata": {},
   "outputs": [
    {
     "name": "stdout",
     "output_type": "stream",
     "text": [
      "343\n",
      "0.0625\n",
      "1\n"
     ]
    }
   ],
   "source": [
    "class power:\n",
    "    def __init__(self, x, n):\n",
    "        self.x =x\n",
    "        self.n = n\n",
    "    \n",
    "    def execute(self):\n",
    "        if self.x ==0 or self.x ==1 or self.n ==1:\n",
    "            return self.x\n",
    "        \n",
    "        if self.x ==-1:\n",
    "            if n%2 ==0:\n",
    "                return 1\n",
    "            else:\n",
    "                return -1\n",
    "            \n",
    "        if self.n< 0:\n",
    "            return 1/power(self.x, -self.n).execute()\n",
    "        \n",
    "        return self.x**self.n\n",
    "        \n",
    "        \n",
    "        \n",
    "print(power(7,3).execute())\n",
    "print(power(2,-4).execute())\n",
    "print(power(100,0).execute())"
   ]
  },
  {
   "cell_type": "markdown",
   "metadata": {},
   "source": [
    "Q8. Write the Python class which has two methods get_String and\n",
    "print_String. get_String accept the string from the user and \n",
    "print_String print the string in upper case."
   ]
  },
  {
   "cell_type": "code",
   "execution_count": 77,
   "metadata": {},
   "outputs": [
    {
     "name": "stdout",
     "output_type": "stream",
     "text": [
      "please enter the string: jameel\n",
      "String in upper case:  JAMEEL\n"
     ]
    }
   ],
   "source": [
    "class StringMethods:\n",
    "    def __init__(self):\n",
    "        self.stringchar = ''\n",
    "        \n",
    "    def get_string(self):\n",
    "        self.stringchar = input('please enter the string: ')\n",
    "    \n",
    "    def print_string(self):\n",
    "        return self.stringchar.upper()\n",
    "    \n",
    "    \n",
    "abc = StringMethods()\n",
    "    \n",
    "abc.get_string()\n",
    "print(\"String in upper case: \", abc.print_string())"
   ]
  },
  {
   "cell_type": "markdown",
   "metadata": {},
   "source": [
    "Q9. Write the Python class named Rectangle constructed by a length\n",
    "and width and the method which will compute the area of the\n",
    "rectangle?"
   ]
  },
  {
   "cell_type": "code",
   "execution_count": 78,
   "metadata": {},
   "outputs": [
    {
     "name": "stdout",
     "output_type": "stream",
     "text": [
      "Rectangle area:  25\n"
     ]
    }
   ],
   "source": [
    "class Rectangle:\n",
    "    def __init__(self, length, width):\n",
    "        self.length =length\n",
    "        self.width =width\n",
    "        \n",
    "    def area(self):\n",
    "        return self.length *self.width\n",
    "    \n",
    "print(\"Rectangle area: \", Rectangle(5,5).area())\n"
   ]
  },
  {
   "cell_type": "markdown",
   "metadata": {},
   "source": [
    "Q10. Write the Python class named Circle constructed by the radius\n",
    "and two methods which will compute the area and perimeter of\n",
    "the circle?"
   ]
  },
  {
   "cell_type": "code",
   "execution_count": 79,
   "metadata": {},
   "outputs": [
    {
     "name": "stdout",
     "output_type": "stream",
     "text": [
      "circle area:  78.5\n",
      "circle perimeter:  31.400000000000002\n"
     ]
    }
   ],
   "source": [
    "class Circle:\n",
    "    def __init__(self, radius):\n",
    "        self.radius =radius\n",
    "        \n",
    "    def area(self):\n",
    "        return 3.14*self.radius**2\n",
    "    \n",
    "    def perimeter(self):\n",
    "        return 2*3.14*self.radius\n",
    "    \n",
    "print(\"circle area: \", Circle(5).area())\n",
    "print(\"circle perimeter: \", Circle(5).perimeter())"
   ]
  },
  {
   "cell_type": "markdown",
   "metadata": {},
   "source": [
    "Q11. Write the Python program to get the class name of an instance in\n",
    "Python?"
   ]
  },
  {
   "cell_type": "code",
   "execution_count": 80,
   "metadata": {},
   "outputs": [
    {
     "name": "stdout",
     "output_type": "stream",
     "text": [
      "class name:  iNeuron\n"
     ]
    }
   ],
   "source": [
    "class iNeuron:\n",
    "    def __init__(self, instructor, student):\n",
    "        self.instructor =instructor\n",
    "        self.student = student\n",
    "        \n",
    "abc = iNeuron(instructor = 'Sudhanshu', student = 'jameel')\n",
    "\n",
    "print(\"class name: \", type(abc).__name__)"
   ]
  },
  {
   "cell_type": "markdown",
   "metadata": {},
   "source": [
    "Q12. Write the Python program to count the number of students of\n",
    "individual class?\n",
    "\n",
    "    Sample dataclasses = (\n",
    "    ('V', 1),\n",
    "    ('VI', 1),\n",
    "    ('V', 2),\n",
    "    ('VI', 2),\n",
    "    ('VI', 3),\n",
    "    ('VII', 1),\n",
    "    )\n",
    "    Expected OutputCounter({'VI': 3, 'V': 2, 'VII': 1})"
   ]
  },
  {
   "cell_type": "code",
   "execution_count": 81,
   "metadata": {},
   "outputs": [
    {
     "name": "stdout",
     "output_type": "stream",
     "text": [
      "Expected OutputCounter:  Counter({'VI': 3, 'V': 2, 'VII': 1})\n"
     ]
    }
   ],
   "source": [
    "from collections import Counter\n",
    "Sample_dataclasses = (\n",
    "    ('V', 1),\n",
    "    ('VI', 1),\n",
    "    ('V', 2),\n",
    "    ('VI', 2),\n",
    "    ('VI', 3),\n",
    "    ('VII', 1),\n",
    ")\n",
    "students = Counter(class_name for class_name, no_students in Sample_dataclasses)\n",
    "print(\"Expected OutputCounter: \", students)\n",
    "\n"
   ]
  },
  {
   "cell_type": "markdown",
   "metadata": {},
   "source": [
    "## Great Job!"
   ]
  }
 ],
 "metadata": {
  "kernelspec": {
   "display_name": "Python 3",
   "language": "python",
   "name": "python3"
  },
  "language_info": {
   "codemirror_mode": {
    "name": "ipython",
    "version": 3
   },
   "file_extension": ".py",
   "mimetype": "text/x-python",
   "name": "python",
   "nbconvert_exporter": "python",
   "pygments_lexer": "ipython3",
   "version": "3.6.8"
  }
 },
 "nbformat": 4,
 "nbformat_minor": 2
}
